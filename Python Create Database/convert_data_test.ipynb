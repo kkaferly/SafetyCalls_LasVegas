{
 "cells": [
  {
   "cell_type": "code",
   "execution_count": 11,
   "source": [
    "# Import libraries\n",
    "import pandas as pd\n",
    "import sqlite3 as lite\n",
    "from sqlite3 import Error as E"
   ],
   "outputs": [],
   "metadata": {}
  },
  {
   "cell_type": "code",
   "execution_count": 32,
   "source": [
    "# Create database from CSV\n",
    "conn = sqlite3.connect(r\"/Users/dataanalysis/Documents/Portfolio Projects/Las Vegas - Public Safety Calls/Manipulate Database in SQLite/safetycalls.db\")\n",
    "\n",
    "# Convert CSV to SQLite db using pandas - Load then Write\n",
    "call_data = pd.read_csv(\"/Users/dataanalysis/Documents/Portfolio Projects/Las Vegas - Public Safety Calls/Data Files/City_of_Las_Vegas_Department_of_Public_Safety_Calls_For_Service_Open_Data.csv\")\n",
    "\n",
    "call_data.to_sql('calls', conn, if_exists='replace', index=False)"
   ],
   "outputs": [],
   "metadata": {}
  },
  {
   "cell_type": "code",
   "execution_count": 33,
   "source": [
    "# Verify database was created\n",
    "cur = conn.cursor()\n",
    "\n",
    "for row in cur.execute('Select * from calls limit 10'):\n",
    "    print(row)\n",
    "\n",
    "conn.close()"
   ],
   "outputs": [
    {
     "output_type": "stream",
     "name": "stdout",
     "text": [
      "('LDM120410011256', 'C', 'None', 'DM', 'CLV DETENTION CENTER', 'LV', 'NV', 'D499', 'DETENTION - INCIDENT', 36.1661987305, -115.101318359, 18848669)\n",
      "('LDM191112025177', 'C', '2019-11-12 00:46:33', 'DM', 'LAS VEGAS DETENTION', 'LV', 'NV', 'D499', 'DETENTION - INCIDENT', 36.1645431519, -115.102912903, 18848670)\n",
      "('LDM191112025176', 'C', '2019-11-12 00:12:17', 'DM', 'LAS VEGAS DETENTION', 'LV', 'NV', 'D499', 'DETENTION - INCIDENT', 36.1645431519, -115.102912903, 18848671)\n",
      "('LDM191112025175', 'C', '2019-11-12 00:09:19', 'DM', 'LAS VEGAS DETENTION', 'LV', 'NV', 'D499', 'DETENTION - INCIDENT', 36.1645431519, -115.102912903, 18848672)\n",
      "('LDM191111025174', 'None', '2019-11-11 23:45:07', 'DM', 'MUNICIPAL GOLF COURS', 'LV', 'NV', 'D406', 'BURGLARY', 36.1810569763, -115.198852539, 18848673)\n",
      "('LDM191111025173', 'A', '2019-11-11 23:14:33', 'DM', 'LORENZI PARK', 'LV', 'NV', 'D448', 'PARK RULES VIOL CLOS', 36.1811981201, -115.186134338, 18848674)\n",
      "('LDM191111025172', 'C', '2019-11-11 22:10:36', 'DM', 'LAS VEGAS DETENTION', 'LV', 'NV', 'D499', 'DETENTION - INCIDENT', 36.1645431519, -115.102912903, 18848675)\n",
      "('LDM191111025171', 'C', '2019-11-11 21:57:28', 'DM', 'LAS VEGAS DETENTION', 'LV', 'NV', 'D499', 'DETENTION - INCIDENT', 36.1645431519, -115.102912903, 18848676)\n",
      "('LDM191111025170', 'C', '2019-11-11 21:49:48', 'DM', 'LAS VEGAS DETENTION', 'LV', 'NV', 'D499', 'DETENTION - INCIDENT', 36.1645431519, -115.102912903, 18848677)\n",
      "('LDM191111025169', 'S', '2019-11-11 21:43:36', 'DM', 'S 4TH ST&FREMONT ST', 'LV', 'NV', 'D414A', 'PETIT LARCENY', 36.1697158813, -115.141784668, 18848678)\n"
     ]
    }
   ],
   "metadata": {}
  },
  {
   "cell_type": "code",
   "execution_count": null,
   "source": [],
   "outputs": [],
   "metadata": {}
  }
 ],
 "metadata": {
  "orig_nbformat": 4,
  "language_info": {
   "name": "python",
   "version": "3.8.8",
   "mimetype": "text/x-python",
   "codemirror_mode": {
    "name": "ipython",
    "version": 3
   },
   "pygments_lexer": "ipython3",
   "nbconvert_exporter": "python",
   "file_extension": ".py"
  },
  "kernelspec": {
   "name": "python3",
   "display_name": "Python 3.8.8 64-bit ('base': conda)"
  },
  "interpreter": {
   "hash": "dca0ade3e726a953b501b15e8e990130d2b7799f14cfd9f4271676035ebe5511"
  }
 },
 "nbformat": 4,
 "nbformat_minor": 2
}